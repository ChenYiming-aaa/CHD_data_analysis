{
 "cells": [
  {
   "cell_type": "markdown",
   "id": "05fc881a",
   "metadata": {},
   "source": [
    "# Purpose of the analysis\n"
   ]
  }
 ],
 "metadata": {
  "language_info": {
   "name": "python"
  }
 },
 "nbformat": 4,
 "nbformat_minor": 5
}
